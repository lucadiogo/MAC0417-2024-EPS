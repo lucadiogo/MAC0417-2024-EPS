{
 "cells": [
  {
   "cell_type": "code",
   "execution_count": 12,
   "id": "1c9ebf86-b19b-4904-9748-a3b4e4dd1c88",
   "metadata": {},
   "outputs": [],
   "source": [
    "import pandas as pd\n",
    "import os\n"
   ]
  },
  {
   "cell_type": "code",
   "execution_count": 13,
   "id": "7990667d-4816-417e-8231-9087ea6188e2",
   "metadata": {},
   "outputs": [],
   "source": [
    "class Classe:\n",
    "    def __init__(self, nome):\n",
    "        self.nome = nome\n",
    "        self.amostras = 0\n",
    "        self.fundos = set()\n",
    "        self.ilums = set()\n",
    "        \n",
    "        # padrao para todas as classes\n",
    "        self.objetos = 1\n",
    "        self.repeticoes = 3\n",
    "\n",
    "    def to_dict(self):\n",
    "        return {\n",
    "            'nome': self.nome,\n",
    "            'objetos': self.objetos, \n",
    "            'fundos': (len(self.fundos),self.fundos), \n",
    "            'iluminacoes': (len(self.ilums),self.ilums),\n",
    "            'repeticoes': self.repeticoes,\n",
    "            'amostras': self.amostras\n",
    "        }\n",
    "                \n"
   ]
  },
  {
   "cell_type": "code",
   "execution_count": 14,
   "id": "abc5476c-d927-421f-a0c9-6aa06da0ff8a",
   "metadata": {
    "scrolled": true
   },
   "outputs": [
    {
     "name": "stdout",
     "output_type": "stream",
     "text": [
      "                               Rotulos    Fundo              Iluminacao\n",
      "0         colher controle bateria cola    preto    dentro de casa - dia\n",
      "1         colher controle bateria cola    preto    dentro de casa - dia\n",
      "2         colher controle bateria cola    preto    dentro de casa - dia\n",
      "3                creme pendrive estojo    preto    dentro de casa - dia\n",
      "4                creme pendrive estojo    preto    dentro de casa - dia\n",
      "5                creme pendrive estojo    preto    dentro de casa - dia\n",
      "6        carteira microfone grampeador    preto    dentro de casa - dia\n",
      "7        carteira microfone grampeador    preto    dentro de casa - dia\n",
      "8        carteira microfone grampeador    preto    dentro de casa - dia\n",
      "9     bateria cola controle grampeador   branco    dentro de casa - dia\n",
      "10    bateria cola controle grampeador   branco    dentro de casa - dia\n",
      "11    bateria cola controle grampeador   branco    dentro de casa - dia\n",
      "12           carteira estojo microfone   branco    dentro de casa - dia\n",
      "13           carteira estojo microfone   branco    dentro de casa - dia\n",
      "14           carteira estojo microfone   branco    dentro de casa - dia\n",
      "15               colher creme pendrive   branco    dentro de casa - dia\n",
      "16               colher creme pendrive   branco    dentro de casa - dia\n",
      "17               colher creme pendrive   branco    dentro de casa - dia\n",
      "18            controle cola grampeador  madeira      fora de casa - dia\n",
      "19            controle cola grampeador  madeira      fora de casa - dia\n",
      "20            controle cola grampeador  madeira      fora de casa - dia\n",
      "21                estojo creme bateria  madeira      fora de casa - dia\n",
      "22                estojo creme bateria  madeira      fora de casa - dia\n",
      "23                estojo creme bateria  madeira      fora de casa - dia\n",
      "24  colher carteira pendrive microfone  madeira      fora de casa - dia\n",
      "25  colher carteira pendrive microfone  madeira      fora de casa - dia\n",
      "26  colher carteira pendrive microfone  madeira      fora de casa - dia\n",
      "27             bateria cola grampeador   branco  dentro de casa - noite\n",
      "28             bateria cola grampeador   branco  dentro de casa - noite\n",
      "29             bateria cola grampeador   branco  dentro de casa - noite\n",
      "30      controle pendrive estojo creme   branco  dentro de casa - noite\n",
      "31      controle pendrive estojo creme   branco  dentro de casa - noite\n",
      "32      controle pendrive estojo creme   branco  dentro de casa - noite\n",
      "33           colher microfone carteira   branco  dentro de casa - noite\n",
      "34           colher microfone carteira   branco  dentro de casa - noite\n",
      "35           colher microfone carteira   branco  dentro de casa - noite\n",
      "36         cola creme colher microfone  madeira    fora de casa - noite\n",
      "37         cola creme colher microfone  madeira    fora de casa - noite\n",
      "38         cola creme colher microfone  madeira    fora de casa - noite\n",
      "39             bateria carteira estojo  madeira    fora de casa - noite\n",
      "40             bateria carteira estojo  madeira    fora de casa - noite\n",
      "41             bateria carteira estojo  madeira    fora de casa - noite\n",
      "42        pendrive grampeador controle  madeira    fora de casa - noite\n",
      "43        pendrive grampeador controle  madeira    fora de casa - noite\n",
      "44        pendrive grampeador controle  madeira    fora de casa - noite\n"
     ]
    }
   ],
   "source": [
    "df = pd.read_csv(\"metadados.csv\")\n",
    "print(df.to_string())"
   ]
  },
  {
   "cell_type": "code",
   "execution_count": 15,
   "id": "8d4973e2-8512-489a-bb68-0623bc83c241",
   "metadata": {},
   "outputs": [
    {
     "name": "stdout",
     "output_type": "stream",
     "text": [
      "{'cola', 'controle', 'creme', 'carteira', 'pendrive', 'bateria', 'microfone', 'grampeador', 'estojo', 'colher'}\n"
     ]
    }
   ],
   "source": [
    "lista_classes = df['Rotulos'].unique()\n",
    "classes = set()\n",
    "for cl in lista_classes:\n",
    "    for rotulo in cl.split(' '):\n",
    "        classes.add(rotulo)\n",
    "print(classes)\n",
    "        \n",
    "        \n",
    "    "
   ]
  },
  {
   "cell_type": "code",
   "execution_count": 16,
   "id": "cd6745ba-56ec-4492-af8e-6726ec992197",
   "metadata": {},
   "outputs": [
    {
     "name": "stdout",
     "output_type": "stream",
     "text": [
      " ### Tabela Global Sumária ###\n",
      "    Nome das classes: cola, controle, creme, carteira, pendrive, bateria, microfone, grampeador, estojo, colher\n",
      "    Numero de classes: 10\n",
      "    Numero de imagens: 45\n",
      "    Tamanho da base em bytes: 158735721\n",
      "    Resolução das imagens: 4032 linhas x 3024 colunas\n"
     ]
    }
   ],
   "source": [
    "def tabela_global(classes):\n",
    "    print(\" ### Tabela Global Sumária ###\")\n",
    "    \n",
    "    nomes = \"\"\n",
    "    for cl in classes:\n",
    "        nomes += f\"{cl}, \"\n",
    "    print(f\"    Nome das classes: {nomes[:-2]}\")\n",
    "    print(f\"    Numero de classes: {len(classes)}\")\n",
    "    print(f\"    Numero de imagens: {df.shape[0]}\")\n",
    "    tam_total = 0\n",
    "\n",
    "    for img in os.listdir(\"datasets/originalImages\"):\n",
    "        caminho = os.path.join(\"datasets/originalImages\", img)\n",
    "        tam_total += os.path.getsize(caminho)\n",
    "\n",
    "    print(f\"    Tamanho da base em bytes: {tam_total}\")\n",
    "    print(\"    Resolução das imagens: 4032 linhas x 3024 colunas\")\n",
    "\n",
    "tabela_global(classes)"
   ]
  },
  {
   "cell_type": "code",
   "execution_count": 17,
   "id": "6d150bb9-f7e2-40af-be50-5d02147f4d0a",
   "metadata": {
    "scrolled": true
   },
   "outputs": [
    {
     "name": "stdout",
     "output_type": "stream",
     "text": [
      "### Tabela detalhada por classe ###\n",
      "         nome  objetos                         fundos                                                                                    iluminacoes  repeticoes  amostras\n",
      "0        cola        1  (3, {branco, madeira, preto})  (4, {dentro de casa - dia, fora de casa - dia, dentro de casa - noite, fora de casa - noite})           3        15\n",
      "1    controle        1  (3, {branco, madeira, preto})  (4, {dentro de casa - dia, fora de casa - dia, dentro de casa - noite, fora de casa - noite})           3        15\n",
      "2       creme        1  (3, {branco, madeira, preto})  (4, {dentro de casa - dia, fora de casa - dia, dentro de casa - noite, fora de casa - noite})           3        15\n",
      "3    carteira        1  (3, {branco, madeira, preto})  (4, {dentro de casa - dia, fora de casa - dia, dentro de casa - noite, fora de casa - noite})           3        15\n",
      "4    pendrive        1  (3, {branco, madeira, preto})  (4, {dentro de casa - dia, fora de casa - dia, dentro de casa - noite, fora de casa - noite})           3        15\n",
      "5     bateria        1  (3, {branco, madeira, preto})  (4, {dentro de casa - dia, fora de casa - dia, dentro de casa - noite, fora de casa - noite})           3        15\n",
      "6   microfone        1  (3, {branco, madeira, preto})  (4, {dentro de casa - dia, fora de casa - dia, dentro de casa - noite, fora de casa - noite})           3        15\n",
      "7  grampeador        1  (3, {branco, madeira, preto})  (4, {dentro de casa - dia, fora de casa - dia, dentro de casa - noite, fora de casa - noite})           3        15\n",
      "8      estojo        1  (3, {branco, madeira, preto})  (4, {dentro de casa - dia, fora de casa - dia, dentro de casa - noite, fora de casa - noite})           3        15\n",
      "9      colher        1  (3, {branco, madeira, preto})  (4, {dentro de casa - dia, fora de casa - dia, dentro de casa - noite, fora de casa - noite})           3        15\n"
     ]
    }
   ],
   "source": [
    "def preenche_dados(linha,classes):\n",
    "    classes_imagem = linha['Rotulos'].split(\" \")\n",
    "    for cl in classes_imagem:\n",
    "        classes[cl].amostras += 1\n",
    "        classes[cl].ilums.add(linha['Iluminacao'])\n",
    "        classes[cl].fundos.add(linha['Fundo'])\n",
    "\n",
    "\n",
    "def tabela_detalhada(classes, data):\n",
    "     dict_classes = {cl:Classe(cl) for cl in classes}\n",
    "     for cl in dict_classes:\n",
    "         dict_classes[cl] = Classe(cl)\n",
    "     data.apply(preenche_dados, axis=1, args=(dict_classes,))\n",
    "     tabela = pd.DataFrame.from_records([dict_classes[cl].to_dict() for cl in dict_classes])\n",
    "     return tabela\n",
    "\n",
    "tabela = tabela_detalhada(classes, df)\n",
    "\n",
    "print(\"### Tabela detalhada por classe ###\")\n",
    "print(tabela.to_string())    \n",
    "\n",
    "\n",
    "    "
   ]
  }
 ],
 "metadata": {
  "kernelspec": {
   "display_name": "Python 3 (ipykernel)",
   "language": "python",
   "name": "python3"
  },
  "language_info": {
   "codemirror_mode": {
    "name": "ipython",
    "version": 3
   },
   "file_extension": ".py",
   "mimetype": "text/x-python",
   "name": "python",
   "nbconvert_exporter": "python",
   "pygments_lexer": "ipython3",
   "version": "3.10.12"
  }
 },
 "nbformat": 4,
 "nbformat_minor": 5
}
