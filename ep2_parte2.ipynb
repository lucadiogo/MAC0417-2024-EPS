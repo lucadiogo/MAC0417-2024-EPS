{
 "cells": [
  {
   "cell_type": "markdown",
   "metadata": {},
   "source": [
    "# @title\n",
    "### EP2 MAC0417 / MAC5768\n",
    "##################################################################\n",
    "# AO PREENCHER ESSE CABEÇALHO COM O MEU NOME E O MEU NÚMERO USP,#\n",
    "# DECLARO QUE SOU O ÚNICO AUTOR E RESPONSÁVEL PELA RESOLUÇÃO #\n",
    "# DESTE EP. #\n",
    "# TODAS AS PARTES FORAM DESENVOLVIDAS E IMPLEMENTADAS POR MIM, #\n",
    "# SEGUINDO AS INSTRUÇÕES E QUE PORTANTO, NÃO CONSTITUEM #\n",
    "# DESONESTIDADE ACADÊMICA OU PLÁGIO. #\n",
    "# #\n",
    "# DECLARO TAMBÉM, QUE SOU RESPONSÁVEL POR TODAS AS CÓPIAS #\n",
    "# DESSE PROGRAMA, E QUE EU NÃO DISTRIBUI OU FACILITEI A #\n",
    "# SUA DISTRIBUIÇÃO. ESTOU CIENTE QUE OS CASOS DE PLÁGIO E #\n",
    "# DESONESTIDADE ACADÊMICA SERÃO TRATADOS SEGUNDO OS CRITÉRIOS #\n",
    "# DEFINIDOS NO CÓDIGO DE ÉTICA DA USP. #\n",
    "# #\n",
    "# ENTENDO QUE JUPYTER NOTEBOOKS SEM ASSINATURA NÃO SERÃO #\n",
    "# CORRIGIDOS E, AINDA ASSIM, PODERÃO SER PUNIDOS POR #\n",
    "# DESONESTIDADE ACADÊMICA. #\n",
    "# #\n",
    "# #\n",
    "# Nome : Luca Diogo da Silva\n",
    "# NUSP : 12542693\n",
    "# Turma: BCC\n",
    "# Prof.: Ronaldo\n",
    "##################################################################"
   ]
  },
  {
   "cell_type": "code",
   "execution_count": null,
   "metadata": {},
   "outputs": [],
   "source": [
    "import numpy as np\n",
    "import matplotlib.pyplot as plt\n",
    "import cv2\n",
    "import os \n",
    "import pandas as pd\n",
    "\n",
    "initial = \"\""
   ]
  },
  {
   "cell_type": "code",
   "execution_count": null,
   "metadata": {},
   "outputs": [],
   "source": [
    "def gera_histograma(img):\n",
    "  hist = np.zeros(256)\n",
    "  for i in range(img.shape[0]):\n",
    "    for j in range(img.shape[1]):\n",
    "      hist[int(img[i][j])] += 1\n",
    "  return hist\n",
    "\n",
    "\n",
    "def equaliza_histograma(img, hist):\n",
    "  x, y = img.shape\n",
    "  hist /= (x * y)\n",
    "  transf = np.zeros(256)\n",
    "\n",
    "  transf[0] = hist[0]\n",
    "  for i in range(1, 256):\n",
    "      transf[i] = hist[i] + transf[i-1]\n",
    "\n",
    "  transf *= 255\n",
    "\n",
    "  eq_img = np.zeros(img.shape)\n",
    "  hist = np.zeros(256)\n",
    "  eq_img = np.rint(transf[img.astype(int)])\n",
    "\n",
    "  hist = gera_histograma(eq_img)\n",
    "\n",
    "  return eq_img, hist"
   ]
  },
  {
   "cell_type": "markdown",
   "metadata": {},
   "source": [
    "## Equalização de histograma"
   ]
  },
  {
   "cell_type": "code",
   "execution_count": null,
   "metadata": {},
   "outputs": [],
   "source": [
    "parent = os.path.join(initial, \"datasets\")\n",
    "normal_path = os.path.join(parent, \"normalizedDataset\")\n",
    "\n",
    "if not os.path.isdir(normal_path):\n",
    "    os.mkdir(normal_path)\n",
    "\n",
    "augm_path = os.path.join(parent, \"augmentedDataset\")\n",
    "dirs  = [\"originalGrayDataset\"] + [os.path.join(\"augmentedDataset\", d) for d in os.listdir(augm_path)]\n",
    "\n",
    "print(dirs)\n",
    "\n",
    "new_augm_path = os.path.join(normal_path, \"augmentedDataset\")\n",
    "if not os.path.isdir(new_augm_path):\n",
    "    os.mkdir(new_augm_path)\n",
    "\n",
    "for d in dirs:\n",
    "    path = os.path.join(normal_path, d)\n",
    "    if not os.path.isdir(path):\n",
    "        os.mkdir(path)\n",
    "\n"
   ]
  },
  {
   "cell_type": "code",
   "execution_count": null,
   "metadata": {},
   "outputs": [],
   "source": [
    "n_imagens = 45\n",
    "df = pd.read_csv(\"metadados.csv\")\n",
    "a = [df[\"Iluminacao\"].iloc[i] for i in range(n_imagens)]\n",
    "\n",
    "histogramas_originais = {d: {ilum: np.zeros(256) for ilum in df[\"Iluminacao\"].unique()} for d in dirs}\n",
    "histogramas_normalizados =  {d: {ilum: np.zeros(256) for ilum in df[\"Iluminacao\"].unique()} for d in dirs}\n",
    "\n",
    "print(histogramas_originais.keys())\n",
    "print(histogramas_originais[\"originalGrayDataset\"].keys())\n",
    "\n",
    "\n",
    "\n",
    "\n",
    "for d in dirs:\n",
    "    src_path = os.path.join(parent, d)\n",
    "    dst_path = os.path.join(normal_path, d)\n",
    "\n",
    "    for img in os.listdir(src_path):\n",
    "        ilum = a[int(img.split(\".\")[0]) - 1]\n",
    "        img_path = os.path.join(src_path, img)\n",
    "        img_mat = cv2.imread(img_path, cv2.IMREAD_GRAYSCALE).astype(int)\n",
    "\n",
    "        hist = gera_histograma(img_mat)\n",
    "        histogramas_originais[d][ilum] += hist\n",
    "\n",
    "        eq_img, eq_hist = equaliza_histograma(img_mat, hist)\n",
    "        histogramas_normalizados[d][ilum] += eq_hist\n",
    "        \n",
    "        number = img.split(\".\")[0]\n",
    "        cv2.imwrite(os.path.join(dst_path, f\"{number}.jpg\"), eq_img)\n",
    "            \n",
    "        print(img, ilum)\n",
    "\n",
    "    print(d)\n",
    "    \n",
    "\n",
    "\n"
   ]
  },
  {
   "cell_type": "code",
   "execution_count": null,
   "metadata": {},
   "outputs": [],
   "source": [
    "def plot_img(img1, img2):\n",
    "  fig, (ax1, ax2) = plt.subplots(1,2, figsize=(12, 6))\n",
    "  ax1.imshow(img1, cmap='gray', vmin=0, vmax=255)\n",
    "  ax1.set_title(\"Exemplo original\")\n",
    "  ax1.axis('off')\n",
    "  \n",
    "  ax2.imshow(img2, cmap='gray', vmin=0, vmax=255)\n",
    "  ax2.set_title(\"Exemplo normalizado\")\n",
    "  ax2.axis('off')\n",
    "  plt.show()\n",
    "\n",
    "\n",
    "def plot_histograma(hist1, hist2):\n",
    "  fig, (ax1, ax2) = plt.subplots(1,2, figsize=(10, 5))\n",
    "  ax1.bar(np.arange(0, 256), hist1)\n",
    "  ax2.bar(np.arange(0, 256), hist2)\n",
    "  ax1.set_title(\"Histograma médio original\")\n",
    "  ax2.set_title(\"Histograma médio após normalização\")\n",
    "  \n",
    "  \n",
    "  plt.show()\n",
    "\n",
    "def demonstrar(parent,dataset, ilum, h1=histogramas_originais, h2=histogramas_normalizados, n_imagens=45):\n",
    "    exemplos = {ilum: f\"{df['Iluminacao'].eq(ilum).idxmax()+1}.jpg\" for ilum in df[\"Iluminacao\"].unique()}\n",
    "    \n",
    "    src_path = os.path.join(parent, dataset)\n",
    "    dst_path = os.path.join(normal_path, dataset)\n",
    "\n",
    "    plot_histograma(h1[dataset][ilum] / n_imagens, h2[dataset][ilum] / n_imagens)\n",
    "\n",
    "\n",
    "    orig_img = cv2.imread(os.path.join(src_path, exemplos[ilum]), cv2.IMREAD_GRAYSCALE).astype(int)\n",
    "    normal_img = cv2.imread(os.path.join(dst_path, exemplos[ilum]), cv2.IMREAD_GRAYSCALE).astype(int)\n",
    "    plot_img(orig_img, normal_img)\n",
    "\n"
   ]
  },
  {
   "cell_type": "code",
   "execution_count": null,
   "metadata": {},
   "outputs": [],
   "source": [
    "demonstrar(parent, \"originalGrayDataset\", \"dentro de casa - dia\")\n"
   ]
  },
  {
   "cell_type": "code",
   "execution_count": null,
   "metadata": {},
   "outputs": [],
   "source": [
    "demonstrar(parent, \"originalGrayDataset\", \"fora de casa - dia\")\n"
   ]
  },
  {
   "cell_type": "code",
   "execution_count": null,
   "metadata": {},
   "outputs": [],
   "source": [
    "demonstrar(parent, \"originalGrayDataset\", \"dentro de casa - noite\")\n"
   ]
  },
  {
   "cell_type": "code",
   "execution_count": null,
   "metadata": {},
   "outputs": [],
   "source": [
    "demonstrar(parent, \"originalGrayDataset\", \"fora de casa - noite\")\n"
   ]
  },
  {
   "cell_type": "code",
   "execution_count": null,
   "metadata": {},
   "outputs": [],
   "source": [
    "demonstrar(parent, os.path.join(\"augmentedDataset\",\"contrastStretching\"), \"dentro de casa - dia\")\n"
   ]
  },
  {
   "cell_type": "code",
   "execution_count": null,
   "metadata": {},
   "outputs": [],
   "source": [
    "demonstrar(parent, os.path.join(\"augmentedDataset\",\"contrastStretching\"), \"fora de casa - dia\")\n"
   ]
  },
  {
   "cell_type": "code",
   "execution_count": null,
   "metadata": {},
   "outputs": [],
   "source": [
    "demonstrar(parent, os.path.join(\"augmentedDataset\",\"contrastStretching\"), \"dentro de casa - noite\")\n"
   ]
  },
  {
   "cell_type": "code",
   "execution_count": null,
   "metadata": {},
   "outputs": [],
   "source": [
    "demonstrar(parent, os.path.join(\"augmentedDataset\",\"contrastStretching\"), \"fora de casa - noite\")\n"
   ]
  },
  {
   "cell_type": "code",
   "execution_count": null,
   "metadata": {},
   "outputs": [],
   "source": [
    "demonstrar(parent, os.path.join(\"augmentedDataset\",\"exponencial\"), \"dentro de casa - dia\")\n"
   ]
  },
  {
   "cell_type": "code",
   "execution_count": null,
   "metadata": {},
   "outputs": [],
   "source": [
    "demonstrar(parent, os.path.join(\"augmentedDataset\",\"exponencial\"), \"fora de casa - dia\")\n"
   ]
  },
  {
   "cell_type": "code",
   "execution_count": null,
   "metadata": {},
   "outputs": [],
   "source": [
    "demonstrar(parent, os.path.join(\"augmentedDataset\",\"exponencial\"), \"dentro de casa - noite\")\n"
   ]
  },
  {
   "cell_type": "code",
   "execution_count": null,
   "metadata": {},
   "outputs": [],
   "source": [
    "demonstrar(parent, os.path.join(\"augmentedDataset\",\"exponencial\"), \"fora de casa - noite\")\n"
   ]
  },
  {
   "cell_type": "code",
   "execution_count": null,
   "metadata": {},
   "outputs": [],
   "source": [
    "demonstrar(parent, os.path.join(\"augmentedDataset\",\"exponencial\"), \"dentro de casa - dia\")\n"
   ]
  },
  {
   "cell_type": "code",
   "execution_count": null,
   "metadata": {},
   "outputs": [],
   "source": [
    "demonstrar(parent, os.path.join(\"augmentedDataset\",\"laplace\"),\"fora de casa - dia\")\n"
   ]
  },
  {
   "cell_type": "code",
   "execution_count": null,
   "metadata": {},
   "outputs": [],
   "source": [
    "demonstrar(parent, os.path.join(\"augmentedDataset\",\"laplace\"), \"dentro de casa - noite\")\n"
   ]
  },
  {
   "cell_type": "code",
   "execution_count": null,
   "metadata": {},
   "outputs": [],
   "source": [
    "demonstrar(parent, os.path.join(\"augmentedDataset\",\"laplace\"), \"fora de casa - noite\")\n"
   ]
  },
  {
   "cell_type": "code",
   "execution_count": null,
   "metadata": {},
   "outputs": [],
   "source": [
    "demonstrar(parent, os.path.join(\"augmentedDataset\",\"logaritmo\"), \"dentro de casa - dia\")\n"
   ]
  },
  {
   "cell_type": "code",
   "execution_count": null,
   "metadata": {},
   "outputs": [],
   "source": [
    "demonstrar(parent, os.path.join(\"augmentedDataset\",\"logaritmo\"), \"fora de casa - dia\")\n"
   ]
  },
  {
   "cell_type": "code",
   "execution_count": null,
   "metadata": {},
   "outputs": [],
   "source": [
    "demonstrar(parent, os.path.join(\"augmentedDataset\",\"logaritmo\"), \"dentro de casa - noite\")\n"
   ]
  },
  {
   "cell_type": "code",
   "execution_count": null,
   "metadata": {},
   "outputs": [],
   "source": [
    "demonstrar(parent, os.path.join(\"augmentedDataset\",\"logaritmo\"), \"fora de casa - noite\")\n"
   ]
  },
  {
   "cell_type": "code",
   "execution_count": null,
   "metadata": {},
   "outputs": [],
   "source": [
    "demonstrar(parent, os.path.join(\"augmentedDataset\",\"media\"), \"dentro de casa - dia\")\n"
   ]
  },
  {
   "cell_type": "code",
   "execution_count": null,
   "metadata": {},
   "outputs": [],
   "source": [
    "demonstrar(parent, os.path.join(\"augmentedDataset\",\"media\"), \"fora de casa - dia\")\n"
   ]
  },
  {
   "cell_type": "code",
   "execution_count": null,
   "metadata": {},
   "outputs": [],
   "source": [
    "demonstrar(parent, os.path.join(\"augmentedDataset\",\"media\"), \"dentro de casa - noite\")\n"
   ]
  },
  {
   "cell_type": "code",
   "execution_count": null,
   "metadata": {},
   "outputs": [],
   "source": [
    "demonstrar(parent, os.path.join(\"augmentedDataset\",\"media\"), \"fora de casa - noite\")\n"
   ]
  },
  {
   "cell_type": "markdown",
   "metadata": {},
   "source": [
    "Pelos exemplos acima, vemos que a iluminação que mais sofre impacto da normalização é a fora de casa, durante o dia, onde as imagens normalizadas, independente do procedimento anterior, tem contraste alto e são detalhadas (exceto para o filtro da média), destacando melhor os objetos. No entanto, no que tange a identificação dos objetos, as iluminações mais impactadas são as de noite, pois são mais escuras e contém objetos muito obscurecidos pela sombra, que passam a ser bem visíveis após a normalização.\n",
    "\n",
    "Há também alguns casos onde a normalização introduz ruído e efeitos indesejados na imagem, como no exemplo fora de casa - noite com o filtro da média, ou dentro de casa - noite com todos os datasets. Nesse último caso, a normalização também se mostra uma faca de dois gumes, pois o aumento de contraste destaca os objetos, porém também destaca as sombras, logo não necessariamente haverá uma facilidade na identificação dos objetos para um modelo de ML."
   ]
  }
 ],
 "metadata": {
  "kernelspec": {
   "display_name": "Python 3",
   "language": "python",
   "name": "python3"
  },
  "language_info": {
   "codemirror_mode": {
    "name": "ipython",
    "version": 3
   },
   "file_extension": ".py",
   "mimetype": "text/x-python",
   "name": "python",
   "nbconvert_exporter": "python",
   "pygments_lexer": "ipython3",
   "version": "3.10.12"
  }
 },
 "nbformat": 4,
 "nbformat_minor": 2
}
